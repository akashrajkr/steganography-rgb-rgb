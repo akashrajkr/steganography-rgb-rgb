{
 "cells": [
  {
   "cell_type": "code",
   "execution_count": null,
   "metadata": {},
   "outputs": [],
   "source": [
    "from PIL import Image"
   ]
  },
  {
   "cell_type": "code",
   "execution_count": null,
   "metadata": {},
   "outputs": [],
   "source": [
    "ip1 = 'images/img1.jpg'\n",
    "ip2 = 'images/img2.jpg'\n",
    "output = 'output/encoded.png'\n",
    "hidden = 'output/decoded.png'\n",
    "try:\n",
    "    img1 = Image.open(ip1)\n",
    "    img2 = Image.open(ip2)\n",
    "except IOError:\n",
    "    print('Entered path is not right')"
   ]
  },
  {
   "cell_type": "code",
   "execution_count": null,
   "metadata": {},
   "outputs": [],
   "source": [
    "if img2.size[0] > img1.size[0] or img2.size[1] > img1.size[1]:\n",
    "    raise ValueError('Image 2 should not be larger than Image 1!')"
   ]
  },
  {
   "cell_type": "code",
   "execution_count": null,
   "metadata": {},
   "outputs": [],
   "source": [
    "pixel_map1 = img1.load()\n",
    "pixel_map2 = img2.load()"
   ]
  },
  {
   "cell_type": "code",
   "execution_count": null,
   "metadata": {},
   "outputs": [],
   "source": [
    "new_image = Image.new(img1.mode, img1.size)\n",
    "pixels_new = new_image.load()"
   ]
  },
  {
   "cell_type": "code",
   "execution_count": null,
   "metadata": {},
   "outputs": [],
   "source": [
    "def merge_rgb(rgb1, rgb2):\n",
    "    r = (rgb1[0] & 240) | (rgb2[0]>>4)\n",
    "    g = (rgb1[1] & 240) | (rgb2[1]>>4)\n",
    "    b = (rgb1[2] & 240) | (rgb2[2]>>4)\n",
    "    return r,g,b"
   ]
  },
  {
   "cell_type": "code",
   "execution_count": null,
   "metadata": {},
   "outputs": [],
   "source": [
    "for i in range(img1.size[0]):\n",
    "    for j in range(img1.size[1]):\n",
    "        rgb1 = pixel_map1[i, j]\n",
    "\n",
    "        # Use a black pixel as default\n",
    "        rgb2 = (0, 0, 0)\n",
    "\n",
    "        # Check if the pixel map position is valid for the second image\n",
    "        if i < img2.size[0] and j < img2.size[1]:\n",
    "            rgb2 = pixel_map2[i, j]\n",
    "\n",
    "        # Merge the two pixels and convert it to a integer tuple\n",
    "        pixels_new[i, j] = merge_rgb(rgb1, rgb2)\n",
    "        \n",
    "new_image.show()\n",
    "new_image.save(output)"
   ]
  },
  {
   "cell_type": "code",
   "execution_count": null,
   "metadata": {},
   "outputs": [],
   "source": [
    "# Decoding"
   ]
  },
  {
   "cell_type": "code",
   "execution_count": null,
   "metadata": {},
   "outputs": [],
   "source": [
    "img = Image.open(output)\n",
    "# Load the pixel map\n",
    "pixel_map = img.load()\n",
    "\n",
    "# Create the new image and load the pixel map\n",
    "new_image = Image.new(img.mode, img.size)\n",
    "pixels_new = new_image.load()"
   ]
  },
  {
   "cell_type": "code",
   "execution_count": null,
   "metadata": {},
   "outputs": [],
   "source": [
    "# img.show()"
   ]
  },
  {
   "cell_type": "code",
   "execution_count": null,
   "metadata": {},
   "outputs": [],
   "source": [
    "# Tuple used to store the image original size\n",
    "original_size = img.size"
   ]
  },
  {
   "cell_type": "code",
   "execution_count": null,
   "metadata": {
    "scrolled": false
   },
   "outputs": [],
   "source": [
    "for i in range(img.size[0]):\n",
    "    for j in range(img.size[1]):\n",
    "        # Get the RGB (as a string tuple) from the current pixel\n",
    "#         print((i,j))\n",
    "        r, g, b = pixel_map[i, j]\n",
    "        # Extract the last 4 bits (corresponding to the hidden image)\n",
    "        pixels_new[i, j] = ((r<<4) & 255, (g<<4) & 255, (b<<4) & 255)\n",
    "        # If this is a 'valid' position, store it\n",
    "        # as the last valid position\n",
    "        if pixels_new[i, j] != (0, 0, 0):\n",
    "            original_size = (i + 1, j + 1)\n",
    "\n",
    "# Crop the image based on the 'valid' pixels\n",
    "new_image = new_image.crop((0, 0, original_size[0], original_size[1]))\n",
    "new_image.show()\n",
    "new_image.save(hidden)"
   ]
  }
 ],
 "metadata": {
  "kernelspec": {
   "display_name": "Python 3",
   "language": "python",
   "name": "python3"
  },
  "language_info": {
   "codemirror_mode": {
    "name": "ipython",
    "version": 3
   },
   "file_extension": ".py",
   "mimetype": "text/x-python",
   "name": "python",
   "nbconvert_exporter": "python",
   "pygments_lexer": "ipython3",
   "version": "3.7.3"
  }
 },
 "nbformat": 4,
 "nbformat_minor": 2
}
